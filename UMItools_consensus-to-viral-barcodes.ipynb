{
 "cells": [
  {
   "cell_type": "markdown",
   "metadata": {},
   "source": [
    "# Summary\n",
    "\n",
    "The purpose of the this pipeline is to take in the illumina fastQ files (read 1 and read 2) and to output a text file containing the read number frequency of each unique viral barcode.  \n",
    "\n",
    "## Input\n",
    "\n",
    "read1.fastq, read2.fastq, reference.fasta\n",
    "\n",
    "## Output\n",
    "\n",
    "LinkGe csv(.txt) file containing  \n",
    "- barcode sequences\n",
    "- number of associated reads\n",
    "- barcode frequency, expressed as a decimal \n",
    "- number of sequences passing cutoff after discarding barcodes containing \"N\"s\n",
    "- frequency of barcode and wildtype reads \n",
    "\n",
    "## Pipeline steps\n",
    "\n",
    "1. Map cleaned consensus.fasta to reference using bbmap, generates a .sam alignment file\n",
    "2. Convert .sam to .bam alignment using reformat.sh\n",
    "3. Generate a sorted .bam alignment using samtools\n",
    "4. Run LinkGe.pl (perl script) to count number of reads per unique barcode, writes to csv file\n",
    "5. Discard viral barcodes containing an \"N\", degenerate nucleotide \n",
    "6. Determine the number of sequences passing cutoff after discarding seqs containing Ns --> modified conversion rate \n",
    "7. Extract wildtype and barcode frequency from the LinkGe.csv output file\n",
    "\n",
    "**File naming system:**\n",
    "\n",
    "**First Digit**\n",
    "\n",
    "Groups | Mixture composition \n",
    "--------|--------------------\n",
    "1 | 100% bc\n",
    "2 | 90% bc\n",
    "3 | 50% bc\n",
    "4 | 10% bc\n",
    "5 | 100% wt\n",
    "\n",
    "\n",
    "**Second Digit**\n",
    "\n",
    "Out | Dilutions, input copy numbers\n",
    "----|------------------------------\n",
    "1 | 100,000\n",
    "2 | 10,000\n",
    "3 | 1,000\n",
    "4 | 100 \n",
    "\n",
    "**Examples**\n",
    "- 1,1: 100% barcoded mixture, 100,000 input copies \n",
    "- 3,2: 50% barcoded mixture, 10,000 input copies\n",
    "- 5,4: 100% wildtype mixture, 100 input copies "
   ]
  },
  {
   "cell_type": "code",
   "execution_count": 7,
   "metadata": {
    "scrolled": true
   },
   "outputs": [
    {
     "name": "stderr",
     "output_type": "stream",
     "text": [
      "java -Djava.library.path=/Users/katbraun/anaconda3/opt/bbmap-38.22-0/jni/ -ea -Xmx1000m -Xms1000m -cp /Users/katbraun/anaconda3/opt/bbmap-38.22-0/current/ jgi.BBMerge in1=ZIKV_trad_rep1_1,1_R1.fastq.gz in2=ZIKV_trad_rep1_1,1_R2.fastq.gz out=out_1/ZIKV_rep1_1,1.fastq outu=out_1/ZIKV_rep1_1,1-unmerged.fastq ihist=out_1/ZIKV_rep1_1,1-hist.txt\n",
      "Executing jgi.BBMerge [in1=ZIKV_trad_rep1_1,1_R1.fastq.gz, in2=ZIKV_trad_rep1_1,1_R2.fastq.gz, out=out_1/ZIKV_rep1_1,1.fastq, outu=out_1/ZIKV_rep1_1,1-unmerged.fastq, ihist=out_1/ZIKV_rep1_1,1-hist.txt]\n",
      "Version 38.22\n",
      "\n",
      "Writing mergable reads merged.\n",
      "Started output threads.\n",
      "Total time: 17.957 seconds.\n",
      "\n",
      "Pairs:               \t500707\n",
      "Joined:              \t466504   \t93.169%\n",
      "Ambiguous:           \t28000   \t5.592%\n",
      "No Solution:         \t6203       \t1.239%\n",
      "Too Short:           \t0       \t0.000%\n",
      "\n",
      "Avg Insert:          \t153.2\n",
      "Standard Deviation:  \t70.2\n",
      "Mode:                \t131\n",
      "\n",
      "Insert range:        \t39 - 493\n",
      "90th percentile:     \t132\n",
      "75th percentile:     \t131\n",
      "50th percentile:     \t131\n",
      "25th percentile:     \t131\n",
      "10th percentile:     \t131\n"
     ]
    }
   ],
   "source": [
    "%%bash\n",
    "\n",
    "# pair and merge raw fastQ files, read 1 and read 2\n",
    "# output 1: zipped paired-merged.fastq\n",
    "# output 2: zipped paired-unmerged.fastq\n",
    "# output 3: histogram with insert sizes and read counts\n",
    "\n",
    "in1=\"ZIKV_trad_rep1_1,1_R1.fastq.gz\"\n",
    "in2=\"ZIKV_trad_rep1_1,1_R2.fastq.gz\"\n",
    "out=\"out_1/ZIKV_rep1_1,1.fastq\"\n",
    "outu=\"out_1/ZIKV_rep1_1,1-unmerged.fastq\"\n",
    "ihist=\"out_1/ZIKV_rep1_1,1-hist.txt\"\n",
    "\n",
    "/Users/katbraun/anaconda3/bin/bbmerge.sh \\\n",
    "in1=$in1 \\\n",
    "in2=$in2 \\\n",
    "out=$out \\\n",
    "outu=$outu \\\n",
    "ihist=$ihist\n",
    "\n"
   ]
  },
  {
   "cell_type": "code",
   "execution_count": 8,
   "metadata": {
    "scrolled": true
   },
   "outputs": [
    {
     "name": "stderr",
     "output_type": "stream",
     "text": [
      "Max memory cannot be determined.  Attempting to use 3200 MB.\n",
      "If this fails, please add the -Xmx flag (e.g. -Xmx24g) to your command, \n",
      "or run this program qsubbed or from a qlogin session on Genepool, or set ulimit to an appropriate value.\n",
      "java -Djava.library.path=/Users/katbraun/anaconda3/opt/bbmap-38.22-0/jni/ -ea -Xmx3200m -cp /Users/katbraun/anaconda3/opt/bbmap-38.22-0/current/ align2.BBMap build=1 overwrite=true fastareadlen=500 ref=../ZIKV_ref.fasta in=out_1/ZIKV_rep1_1,1.fastq out=out_1/paired-merged-aligned-1,1.sam\n",
      "Executing align2.BBMap [build=1, overwrite=true, fastareadlen=500, ref=../ZIKV_ref.fasta, in=out_1/ZIKV_rep1_1,1.fastq, out=out_1/paired-merged-aligned-1,1.sam]\n",
      "Version 38.22\n",
      "\n",
      "Retaining first best site only for ambiguous mappings.\n",
      "NOTE:\tIgnoring reference file because it already appears to have been processed.\n",
      "NOTE:\tIf you wish to regenerate the index, please manually delete ref/genome/1/summary.txt\n",
      "Set genome to 1\n",
      "\n",
      "Loaded Reference:\t0.071 seconds.\n",
      "Loading index for chunk 1-1, build 1\n",
      "Generated Index:\t0.738 seconds.\n",
      "Analyzed Index:   \t3.420 seconds.\n",
      "Started output stream:\t0.033 seconds.\n",
      "Cleared Memory:    \t0.143 seconds.\n",
      "Processing reads in single-ended mode.\n",
      "Started read stream.\n",
      "Started 4 mapping threads.\n",
      "Detecting finished threads: 0, 1, 2, 3\n",
      "\n",
      "   ------------------   Results   ------------------   \n",
      "\n",
      "Genome:                \t1\n",
      "Key Length:            \t13\n",
      "Max Indel:             \t16000\n",
      "Minimum Score Ratio:  \t0.56\n",
      "Mapping Mode:         \tnormal\n",
      "Reads Used:           \t466504\t(71469859 bases)\n",
      "\n",
      "Mapping:          \t24.570 seconds.\n",
      "Reads/sec:       \t18986.98\n",
      "kBases/sec:      \t2908.86\n",
      "\n",
      "\n",
      "Read 1 data:      \tpct reads\tnum reads \tpct bases\t   num bases\n",
      "\n",
      "mapped:          \t 90.0404% \t   420042 \t 76.9619% \t    55004561\n",
      "unambiguous:     \t 90.0404% \t   420042 \t 76.9619% \t    55004561\n",
      "ambiguous:       \t  0.0000% \t        0 \t  0.0000% \t           0\n",
      "low-Q discards:  \t  0.0000% \t        0 \t  0.0000% \t           0\n",
      "\n",
      "perfect best site:\t  0.0000% \t        0 \t  0.0000% \t           0\n",
      "semiperfect site:\t 15.9182% \t    74259 \t 13.6126% \t     9728905\n",
      "\n",
      "Match Rate:      \t      NA \t       NA \t 92.5399% \t    50920807\n",
      "Error Rate:      \t 81.5276% \t   342464 \t  1.3269% \t      730132\n",
      "Sub Rate:        \t 80.5225% \t   338242 \t  1.2811% \t      704934\n",
      "Del Rate:        \t  2.8679% \t    12047 \t  0.0386% \t       21229\n",
      "Ins Rate:        \t  0.6716% \t     2821 \t  0.0072% \t        3969\n",
      "N Rate:          \t 99.9890% \t   420013 \t  6.1332% \t     3374851\n",
      "\n",
      "Total time:     \t29.100 seconds.\n",
      "bash: line 21:  : command not found\n"
     ]
    }
   ],
   "source": [
    "%%bash\n",
    "\n",
    "# map consensus.fasta to reference \n",
    "# output 1: alignment in .sam format\n",
    "# output 2: base histogram (bhist) lists base frequencies at each position\n",
    "# output 3: quality histogram (qhist) by position \n",
    "# output 4: histogram (aqhist) of average read quality \n",
    "# output 5: histogram (lhist) of read lengths\n",
    "\n",
    "file=\"out_1/ZIKV_rep1_1,1.fastq\"\n",
    "ref=\"../ZIKV_ref.fasta\"\n",
    "out=\"out_1/paired-merged-aligned-1,1.sam\"\n",
    "\n",
    "/Users/katbraun/anaconda3/bin/bbmap.sh \\\n",
    "ref=$ref \\\n",
    "in=$file \\\n",
    "out=$out \\\n",
    "# bhist=LinkGe/base-histogram.txt \\\n",
    "# qhist=LinkGe/quality-histogram.txt \\\n",
    "# aqhist=LinkGe/average-quality-histogram.txt \\\n",
    "# lhist=LinkGe/lengths-histogram.txt \\\n",
    "printunmappedcount=t \\\n",
    "mintrimlength=131 \\ \n",
    "statsfile=stderr"
   ]
  },
  {
   "cell_type": "code",
   "execution_count": 9,
   "metadata": {},
   "outputs": [
    {
     "name": "stderr",
     "output_type": "stream",
     "text": [
      "java -ea -Xmx200m -cp /Users/katbraun/anaconda3/opt/bbmap-38.22-0/current/ jgi.ReformatReads sam=1.3 in=out_1/paired-merged-aligned-1,1.sam out=out_1/paired-merged-aligned-1,1.bam\n",
      "Executing jgi.ReformatReads [sam=1.3, in=out_1/paired-merged-aligned-1,1.sam, out=out_1/paired-merged-aligned-1,1.bam]\n",
      "\n",
      "Input is being processed as unpaired\n",
      "Found samtools 1.9\n",
      "Input:                  \t466504 reads          \t71469859 bases\n",
      "Output:                 \t466504 reads (100.00%) \t71469859 bases (100.00%)\n",
      "\n",
      "Time:                         \t3.220 seconds.\n",
      "Reads Processed:        466k \t144.86k reads/sec\n",
      "Bases Processed:      71469k \t22.19m bases/sec\n"
     ]
    }
   ],
   "source": [
    "%%bash\n",
    "\n",
    "# convert sam alignment to bam alignment \n",
    "# 'sam=1.3' flag is required to output a legacy bam file that will be compatible with LinkGe\n",
    "# output 1: paired-merged-aligned.bam \n",
    "\n",
    "file=\"out_1/ZIKV_rep1_1,1.fastq\"\n",
    "inpath=\"out_1/paired-merged-aligned-1,1.sam\"\n",
    "outpath=\"out_1/paired-merged-aligned-1,1.bam\"\n",
    "\n",
    "/Users/katbraun/anaconda3/bin/reformat.sh \\\n",
    "'sam=1.3' \\\n",
    "in=$inpath \\\n",
    "out=$outpath"
   ]
  },
  {
   "cell_type": "code",
   "execution_count": 10,
   "metadata": {},
   "outputs": [],
   "source": [
    "%%bash\n",
    "\n",
    "# sort the bam alignment \n",
    "# output 1: paired-merged-aligned-sorted.bam \n",
    "\n",
    "file=\"out_1/ZIKV_rep1_1,1.fastq\"\n",
    "inpath=\"out_1/paired-merged-aligned-1,1.bam\"\n",
    "outpath=\"out_1/paired-merged-aligned-sorted-1,1.bam\"\n",
    "\n",
    "/Users/katbraun/anaconda3/bin/samtools \\\n",
    "sort -o $outpath $inpath"
   ]
  },
  {
   "cell_type": "code",
   "execution_count": 11,
   "metadata": {},
   "outputs": [
    {
     "name": "stdout",
     "output_type": "stream",
     "text": [
      "parsing position 60 ... 420042 reads\n",
      "parsing position 63 ... 420042 reads\n",
      "parsing position 66 ... 420042 reads\n",
      "parsing position 69 ... 420042 reads\n",
      "parsing position 72 ... 420042 reads\n",
      "parsing position 75 ... 420041 reads\n",
      "parsing position 78 ... 420039 reads\n",
      "parsing position 81 ... 420039 reads\n",
      "finding reads that cover all positions ... 420039 matches\n",
      "counting reads with matching calls ... \n",
      "printing LinkGe-rep1-1,1.txt to /Users/katbraun/Documents/research/kat_braun/projects/UMI_method/data_derived/run_476/traditional_amplicons_rep1/group_1 ... \n",
      "script completed in 49s\n"
     ]
    }
   ],
   "source": [
    "%%bash\n",
    "\n",
    "# run LinkGe on paired-merged-aligned-sorted.bam at\n",
    "# barcode positions: 60, 63, 66, 69, 72, 75, 78, 81\n",
    "# output 1: csv with barcode sequence, reads per barcodes sequence, and frequency \n",
    "\n",
    "file=\"out_1/ZIKV_rep1_1,1.fastq\"\n",
    "outfile=\"LinkGe-rep1-1,1\"\n",
    "inpath=\"out_1/paired-merged-aligned-sorted-1,1.bam\"\n",
    "Linkge=\"../scripts/LinkGe.pl\"\n",
    "\n",
    "mkdir out_1/LinkGe\n",
    "\n",
    "/Users/katbraun/anaconda3/bin/perl \\\n",
    "$Linkge -o $outfile -l 60,63,66,69,72,75,78,81 $inpath\n",
    "mv $outfile.txt out_1/LinkGe/$outfile.txt"
   ]
  },
  {
   "cell_type": "code",
   "execution_count": 12,
   "metadata": {},
   "outputs": [
    {
     "name": "stdout",
     "output_type": "stream",
     "text": [
      "\n",
      "5535\n",
      "42084\n"
     ]
    }
   ],
   "source": [
    "%%bash\n",
    "\n",
    "# determine the number of lines in the LinkGe.txt file expected \n",
    "# after the lines containing an \"N\" are removed \n",
    "\n",
    "file=\"out_1/LinkGe/LinkGe-rep1-1,1.txt\"\n",
    "echo $path\n",
    "\n",
    "Tlines=$(wc -l $file | cut -f1 -d' ') # total number of lines in the fasta file\n",
    "Rlines=$(echo \"$(($Tlines - 3))\") # number of lines discarding 3 header lines \n",
    "Nlines=$(grep \"N\" $file | wc -l) #  lines containing at least one \"N\"\n",
    "lines=$(echo \"$(($Rlines - $Nlines))\") # lines expected after degenerate barcodes are discarded\n",
    "\n",
    "# echo $Tlines\n",
    "# echo $Rlines\n",
    "echo $Nlines\n",
    "echo $lines"
   ]
  },
  {
   "cell_type": "code",
   "execution_count": 13,
   "metadata": {},
   "outputs": [],
   "source": [
    "%%bash \n",
    "\n",
    "# discard all lines in LinkGe.txt that contain ambiguous bases (Ns)\n",
    "# this will fail if there is an N in the UMI (fasta header), the next cell is a check for this potential problem \n",
    "\n",
    "file=\"out_1/LinkGe/LinkGe-rep1-1,1.txt\"\n",
    "\n",
    "sed -i '/N/d' $file"
   ]
  },
  {
   "cell_type": "code",
   "execution_count": 14,
   "metadata": {},
   "outputs": [
    {
     "name": "stdout",
     "output_type": "stream",
     "text": [
      "42084\n"
     ]
    }
   ],
   "source": [
    "%%bash\n",
    "\n",
    "# check to ensure that the above sed command worked as expected\n",
    "# $lines (from above) and $lines (from this cell) should be equal, if not an error occured\n",
    "\n",
    "file=\"out_1/LinkGe/LinkGe-rep1-1,1.txt\"\n",
    "\n",
    "lines=$(wc -l $file | cut -f1 -d' ')\n",
    "Tlines=$(echo \"$(($lines - 3))\") # number of lines discarding 3 header lines \n",
    "echo $Tlines"
   ]
  },
  {
   "cell_type": "code",
   "execution_count": 15,
   "metadata": {},
   "outputs": [
    {
     "name": "stdout",
     "output_type": "stream",
     "text": [
      "Number of sequences passing cutoff after discarding seqs containing Ns: 413593\n"
     ]
    }
   ],
   "source": [
    "%%bash\n",
    "\n",
    "# this cell determines the number of sequences passing cutoff, discarding sequencing containing \"Ns\"\n",
    "\n",
    "\n",
    "file=\"out_1/LinkGe/LinkGe-rep1-1,1.txt\"\n",
    "csv=\"out_1/LinkGe/LinkGe-rep1-1,1.csv\"\n",
    "\n",
    "cut -f2 -d$'\\t' $file >> $csv\n",
    "sed -i '/'LinkGe'/d' $csv \n",
    "sed -i '/'Total'/d' $csv\n",
    "sed -i '/'reads'/d' $csv\n",
    "\n",
    "sum=$(awk -F',' '{sum+=$1} END {print sum}' $csv)\n",
    "echo \"Number of sequences passing cutoff after discarding seqs containing Ns:\" $sum"
   ]
  },
  {
   "cell_type": "code",
   "execution_count": 16,
   "metadata": {},
   "outputs": [
    {
     "name": "stdout",
     "output_type": "stream",
     "text": [
      "0.0096372\n"
     ]
    }
   ],
   "source": [
    "%%bash\n",
    "\n",
    "# extract wildtype freqency from the LinkGe.txt file \n",
    "\n",
    "path=\"out_1/LinkGe/LinkGe-rep1-1,1.txt\"\n",
    "\n",
    "wt=$(grep \"G60:T63:T66:G69:A72:A75:G78:C81\" $path | cut -f3 -d$'\\t') # wildtype frequency, decimal form\n",
    "\n",
    "echo $wt\n"
   ]
  },
  {
   "cell_type": "code",
   "execution_count": 17,
   "metadata": {},
   "outputs": [
    {
     "name": "stdout",
     "output_type": "stream",
     "text": [
      "Wildtype frequency is: 0.96372\n",
      "Barcode frequency is: 99.03628\n",
      "Check to make sure wt + bc frequency equals one-hundred: 100.0\n"
     ]
    }
   ],
   "source": [
    "# this is a python cell because bash is bad at math\n",
    "# copy/paste $wt from above into the wt = $wt line \n",
    "# outputs wildtype and barcode frequency in percentage form \n",
    "\n",
    "wt = 0.0096372 # use the out from above cell \n",
    "wtfreq = wt * 100\n",
    "bcfreq = 100 - wtfreq\n",
    "totalfreq = wtfreq + bcfreq\n",
    "\n",
    "print('Wildtype frequency is:', wtfreq)\n",
    "print('Barcode frequency is:', bcfreq)\n",
    "     \n",
    "print('Check to make sure wt + bc frequency equals one-hundred:',totalfreq)"
   ]
  },
  {
   "cell_type": "code",
   "execution_count": null,
   "metadata": {},
   "outputs": [],
   "source": []
  }
 ],
 "metadata": {
  "kernelspec": {
   "display_name": "Python 3",
   "language": "python",
   "name": "python3"
  },
  "language_info": {
   "codemirror_mode": {
    "name": "ipython",
    "version": 3
   },
   "file_extension": ".py",
   "mimetype": "text/x-python",
   "name": "python",
   "nbconvert_exporter": "python",
   "pygments_lexer": "ipython3",
   "version": "3.6.6"
  }
 },
 "nbformat": 4,
 "nbformat_minor": 2
}
